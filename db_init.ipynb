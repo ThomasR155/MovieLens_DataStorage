{
 "cells": [
  {
   "cell_type": "code",
   "execution_count": 1,
   "metadata": {},
   "outputs": [],
   "source": [
    "import sqlite3\n",
    "from sqlite3 import Error\n",
    "import pandas as pd\n",
    "import sqlite3\n",
    "from sqlite3 import Error\n",
    "from sqlalchemy import create_engine, MetaData, Table, Column, ForeignKey, String, Integer, Float, DateTime\n",
    "from sqlalchemy.ext.declarative import declarative_base\n",
    "from sqlalchemy.ext.automap import automap_base\n",
    "from sqlalchemy.orm import sessionmaker\n"
   ]
  },
  {
   "cell_type": "code",
   "execution_count": 2,
   "metadata": {},
   "outputs": [],
   "source": [
    "#https://www.sqlitetutorial.net/sqlite-python/creating-tables/\n",
    "# Methods to handle database\n",
    "def create_connection(db_file):\n",
    "    conn = None\n",
    "    try:\n",
    "        conn = sqlite3.connect(db_file)\n",
    "        print(sqlite3.version)\n",
    "    except Error as e:\n",
    "        print(e)\n",
    "    return conn\n",
    "    \n",
    "\n",
    "\n",
    "def load_csv_to_db(conn,csv_filename,table_name):\n",
    "    df = pd.read_csv(csv_filename)\n",
    "    df.to_sql(table_name, conn, if_exists='append', index = False)\n",
    "\n"
   ]
  },
  {
   "cell_type": "code",
   "execution_count": null,
   "metadata": {},
   "outputs": [],
   "source": []
  },
  {
   "cell_type": "code",
   "execution_count": 4,
   "metadata": {},
   "outputs": [],
   "source": [
    "\n",
    "metadata_obj = MetaData()\n",
    "Ratings = Table(\n",
    "    \"Ratings\",\n",
    "    metadata_obj,\n",
    "    Column(\"ratingId\", Integer, primary_key=True),\n",
    "    Column(\"userId\", Integer),\n",
    "    Column(\"movieId\",Integer, ForeignKey(\"Movies.movieId\")),\n",
    "    Column(\"rating\", Float),\n",
    "    Column(\"timestamp\", DateTime),\n",
    ")\n",
    "\n",
    "Movies = Table(\n",
    "    \"Movies\",\n",
    "    metadata_obj,\n",
    "    Column(\"movieId\", Integer, primary_key=True),\n",
    "    Column(\"title\", String),\n",
    "    Column(\"genres\", String)\n",
    ")\n"
   ]
  },
  {
   "cell_type": "code",
   "execution_count": 15,
   "metadata": {},
   "outputs": [],
   "source": [
    "Base = declarative_base()\n",
    "\n",
    "# Sqlalchemy Tables:\n",
    "class Rating(Base):\n",
    "    __tablename__ = \"Ratings\"\n",
    "    ratingId = Column(\"ratingId\", Integer, primary_key=True)\n",
    "    userId = Column(\"userId\", Integer)\n",
    "    movieId =Column(Integer, ForeignKey(\"Movies.movieId\"))\n",
    "    rating = Column(\"rating\", Float)\n",
    "    timestamp = Column(\"timestamp\", DateTime)\n",
    "\n",
    "    def __init__(self, userId,movieId,rating,timestamp):\n",
    "        self.userId = userId\n",
    "        self.movieId = movieId\n",
    "        self.rating = rating\n",
    "        self.timestamp = timestamp\n",
    "    def __repr__(self):\n",
    "        return f\"{self.userId}, {self.movieId}, {self.rating}\"\n",
    "\n",
    "\n",
    "\n",
    "class Movie(Base):\n",
    "    __tablename__ = \"Movies\"\n",
    "    movieId = Column(\"movieId\", Integer, primary_key=True)\n",
    "    title = Column(\"title\", String)\n",
    "    genres =Column(\"genres\", String)\n",
    "\n",
    "    def __init__(self, movieId, title, genre):\n",
    "        self.movieId = movieId\n",
    "        self.title = title\n",
    "        self.genre =genre\n",
    "    def __repr__(self):\n",
    "        return f\"{self.movieId}, {self.title}, {self.genre}\"\n",
    "\n",
    "class Tag(Base):\n",
    "    __tablename__ = \"Tags\"\n",
    "    userId = Column(\"userId\", Integer)\n",
    "    tagId = Column(\"tagId\", Integer, primary_key=True)\n",
    "    movieId = Column(Integer, ForeignKey(\"Movies.movieId\"))\n",
    "    tag = Column(\"tag\", String)\n",
    "    timestamp = Column(\"timestamp\", DateTime)\n",
    "    def __init__(self, tagId, movieId, tag,timestamp, userId):\n",
    "        self.movieId = movieId\n",
    "        self.tagId = tagId\n",
    "        self.tag =tag\n",
    "        self.timestamp = timestamp\n",
    "        self.userId = userId\n",
    "    def __repr__(self):\n",
    "        return f\"{self.tag}, {self.movieId}\"\n",
    "\n",
    "class Score(Base):\n",
    "    __tablename__ = \"Genome_Scores\"\n",
    "    scoreId = Column(\"scoreId\", Integer, primary_key=True)\n",
    "    movieId = Column(Integer, ForeignKey(\"Movies.movieId\"))\n",
    "    tagId = Column(\"tagId\", Integer)\n",
    "    relevance = Column(\"relevance\", Float)\n",
    "    def __init__(self, tagId, movieId, scoreId,relevance):\n",
    "        self.movieId = movieId\n",
    "        self.tagId = tagId\n",
    "        self.scoreId =scoreId\n",
    "        self.relevance = relevance\n",
    "    def __repr__(self):\n",
    "        return f\"{self.movieId}, {self.scoreId}, {self.relevance}\"\n",
    "\n",
    "class Genome_Tag(Base):\n",
    "    __tablename__ = \"Genome_Tags\"\n",
    "    tagId = Column( \"tagId\",Integer, primary_key=True)\n",
    "    tag = Column(\"tag\", String)\n",
    "    def __init__(self, tagId, tag):\n",
    "        self.tagId = tagId\n",
    "        self.tag = tag\n",
    "    def __repr__(self):\n",
    "        return f\"{self.tag}\"\n",
    "\n",
    "class Link(Base):\n",
    "    __tablename__ = \"Links\"\n",
    "    linkId = Column(\"linkId\", Integer, primary_key=True)\n",
    "    movieId = Column(Integer, ForeignKey(\"Movies.movieId\"))\n",
    "    imdbId = Column(\"imdbId\", Integer)\n",
    "    tmdbId = Column(\"tmdbId\", Float)\n",
    "    def __init__(self, imdbId, movieId, tmdbId,relevance):\n",
    "        self.movieId = movieId\n",
    "        self.imdbId = imdbId\n",
    "        self.tmdbId =tmdbId\n",
    "    def __repr__(self):\n",
    "        return f\"{self.movieId}, {self.imdbId}, {self.tmdbId}\"\n",
    "\n",
    "\n",
    "\n"
   ]
  },
  {
   "cell_type": "code",
   "execution_count": 16,
   "metadata": {},
   "outputs": [],
   "source": [
    "\n",
    "engine = create_engine(\"sqlite:///Database/movielens.db\")\n",
    "Base.metadata.create_all(bind=engine)\n",
    "Session = sessionmaker(bind=engine)\n",
    "session = Session()"
   ]
  },
  {
   "cell_type": "code",
   "execution_count": 17,
   "metadata": {},
   "outputs": [
    {
     "name": "stdout",
     "output_type": "stream",
     "text": [
      "2.6.0\n"
     ]
    },
    {
     "ename": "OperationalError",
     "evalue": "table Tags has no column named userId",
     "output_type": "error",
     "traceback": [
      "\u001b[1;31m---------------------------------------------------------------------------\u001b[0m",
      "\u001b[1;31mOperationalError\u001b[0m                          Traceback (most recent call last)",
      "Cell \u001b[1;32mIn[17], line 4\u001b[0m\n\u001b[0;32m      2\u001b[0m \u001b[39mfrom\u001b[39;00m \u001b[39msqlalchemy\u001b[39;00m\u001b[39m.\u001b[39;00m\u001b[39mtypes\u001b[39;00m \u001b[39mimport\u001b[39;00m Integer, String, DateTime\n\u001b[0;32m      3\u001b[0m connection\u001b[39m=\u001b[39mcreate_connection(\u001b[39m\"\u001b[39m\u001b[39mDatabase/movielens.db\u001b[39m\u001b[39m\"\u001b[39m)\n\u001b[1;32m----> 4\u001b[0m load_csv_to_db(connection, \u001b[39m\"\u001b[39;49m\u001b[39mmovielens/tags.csv\u001b[39;49m\u001b[39m\"\u001b[39;49m, \u001b[39m\"\u001b[39;49m\u001b[39mTags\u001b[39;49m\u001b[39m\"\u001b[39;49m)\n\u001b[0;32m      5\u001b[0m load_csv_to_db(connection, \u001b[39m\"\u001b[39m\u001b[39mmovielens/ratings.csv\u001b[39m\u001b[39m\"\u001b[39m, \u001b[39m\"\u001b[39m\u001b[39mRatings\u001b[39m\u001b[39m\"\u001b[39m)\n\u001b[0;32m      6\u001b[0m load_csv_to_db(connection, \u001b[39m\"\u001b[39m\u001b[39mmovielens/genome-scores.csv\u001b[39m\u001b[39m\"\u001b[39m, \u001b[39m\"\u001b[39m\u001b[39mGenome_Scores\u001b[39m\u001b[39m\"\u001b[39m)\n",
      "Cell \u001b[1;32mIn[2], line 16\u001b[0m, in \u001b[0;36mload_csv_to_db\u001b[1;34m(conn, csv_filename, table_name)\u001b[0m\n\u001b[0;32m     14\u001b[0m \u001b[39mdef\u001b[39;00m \u001b[39mload_csv_to_db\u001b[39m(conn,csv_filename,table_name):\n\u001b[0;32m     15\u001b[0m     df \u001b[39m=\u001b[39m pd\u001b[39m.\u001b[39mread_csv(csv_filename)\n\u001b[1;32m---> 16\u001b[0m     df\u001b[39m.\u001b[39;49mto_sql(table_name, conn, if_exists\u001b[39m=\u001b[39;49m\u001b[39m'\u001b[39;49m\u001b[39mappend\u001b[39;49m\u001b[39m'\u001b[39;49m, index \u001b[39m=\u001b[39;49m \u001b[39mFalse\u001b[39;49;00m)\n",
      "File \u001b[1;32mc:\\Users\\Thoma\\anaconda3\\envs\\data_storage\\lib\\site-packages\\pandas\\core\\generic.py:2987\u001b[0m, in \u001b[0;36mNDFrame.to_sql\u001b[1;34m(self, name, con, schema, if_exists, index, index_label, chunksize, dtype, method)\u001b[0m\n\u001b[0;32m   2830\u001b[0m \u001b[39m\"\"\"\u001b[39;00m\n\u001b[0;32m   2831\u001b[0m \u001b[39mWrite records stored in a DataFrame to a SQL database.\u001b[39;00m\n\u001b[0;32m   2832\u001b[0m \n\u001b[1;32m   (...)\u001b[0m\n\u001b[0;32m   2983\u001b[0m \u001b[39m[(1,), (None,), (2,)]\u001b[39;00m\n\u001b[0;32m   2984\u001b[0m \u001b[39m\"\"\"\u001b[39;00m  \u001b[39m# noqa:E501\u001b[39;00m\n\u001b[0;32m   2985\u001b[0m \u001b[39mfrom\u001b[39;00m \u001b[39mpandas\u001b[39;00m\u001b[39m.\u001b[39;00m\u001b[39mio\u001b[39;00m \u001b[39mimport\u001b[39;00m sql\n\u001b[1;32m-> 2987\u001b[0m \u001b[39mreturn\u001b[39;00m sql\u001b[39m.\u001b[39;49mto_sql(\n\u001b[0;32m   2988\u001b[0m     \u001b[39mself\u001b[39;49m,\n\u001b[0;32m   2989\u001b[0m     name,\n\u001b[0;32m   2990\u001b[0m     con,\n\u001b[0;32m   2991\u001b[0m     schema\u001b[39m=\u001b[39;49mschema,\n\u001b[0;32m   2992\u001b[0m     if_exists\u001b[39m=\u001b[39;49mif_exists,\n\u001b[0;32m   2993\u001b[0m     index\u001b[39m=\u001b[39;49mindex,\n\u001b[0;32m   2994\u001b[0m     index_label\u001b[39m=\u001b[39;49mindex_label,\n\u001b[0;32m   2995\u001b[0m     chunksize\u001b[39m=\u001b[39;49mchunksize,\n\u001b[0;32m   2996\u001b[0m     dtype\u001b[39m=\u001b[39;49mdtype,\n\u001b[0;32m   2997\u001b[0m     method\u001b[39m=\u001b[39;49mmethod,\n\u001b[0;32m   2998\u001b[0m )\n",
      "File \u001b[1;32mc:\\Users\\Thoma\\anaconda3\\envs\\data_storage\\lib\\site-packages\\pandas\\io\\sql.py:695\u001b[0m, in \u001b[0;36mto_sql\u001b[1;34m(frame, name, con, schema, if_exists, index, index_label, chunksize, dtype, method, engine, **engine_kwargs)\u001b[0m\n\u001b[0;32m    690\u001b[0m \u001b[39melif\u001b[39;00m \u001b[39mnot\u001b[39;00m \u001b[39misinstance\u001b[39m(frame, DataFrame):\n\u001b[0;32m    691\u001b[0m     \u001b[39mraise\u001b[39;00m \u001b[39mNotImplementedError\u001b[39;00m(\n\u001b[0;32m    692\u001b[0m         \u001b[39m\"\u001b[39m\u001b[39m'\u001b[39m\u001b[39mframe\u001b[39m\u001b[39m'\u001b[39m\u001b[39m argument should be either a Series or a DataFrame\u001b[39m\u001b[39m\"\u001b[39m\n\u001b[0;32m    693\u001b[0m     )\n\u001b[1;32m--> 695\u001b[0m \u001b[39mreturn\u001b[39;00m pandas_sql\u001b[39m.\u001b[39mto_sql(\n\u001b[0;32m    696\u001b[0m     frame,\n\u001b[0;32m    697\u001b[0m     name,\n\u001b[0;32m    698\u001b[0m     if_exists\u001b[39m=\u001b[39mif_exists,\n\u001b[0;32m    699\u001b[0m     index\u001b[39m=\u001b[39mindex,\n\u001b[0;32m    700\u001b[0m     index_label\u001b[39m=\u001b[39mindex_label,\n\u001b[0;32m    701\u001b[0m     schema\u001b[39m=\u001b[39mschema,\n\u001b[0;32m    702\u001b[0m     chunksize\u001b[39m=\u001b[39mchunksize,\n\u001b[0;32m    703\u001b[0m     dtype\u001b[39m=\u001b[39mdtype,\n\u001b[0;32m    704\u001b[0m     method\u001b[39m=\u001b[39mmethod,\n\u001b[0;32m    705\u001b[0m     engine\u001b[39m=\u001b[39mengine,\n\u001b[0;32m    706\u001b[0m     \u001b[39m*\u001b[39m\u001b[39m*\u001b[39mengine_kwargs,\n\u001b[0;32m    707\u001b[0m )\n",
      "File \u001b[1;32mc:\\Users\\Thoma\\anaconda3\\envs\\data_storage\\lib\\site-packages\\pandas\\io\\sql.py:2188\u001b[0m, in \u001b[0;36mSQLiteDatabase.to_sql\u001b[1;34m(self, frame, name, if_exists, index, index_label, schema, chunksize, dtype, method, **kwargs)\u001b[0m\n\u001b[0;32m   2178\u001b[0m table \u001b[39m=\u001b[39m SQLiteTable(\n\u001b[0;32m   2179\u001b[0m     name,\n\u001b[0;32m   2180\u001b[0m     \u001b[39mself\u001b[39m,\n\u001b[1;32m   (...)\u001b[0m\n\u001b[0;32m   2185\u001b[0m     dtype\u001b[39m=\u001b[39mdtype,\n\u001b[0;32m   2186\u001b[0m )\n\u001b[0;32m   2187\u001b[0m table\u001b[39m.\u001b[39mcreate()\n\u001b[1;32m-> 2188\u001b[0m \u001b[39mreturn\u001b[39;00m table\u001b[39m.\u001b[39;49minsert(chunksize, method)\n",
      "File \u001b[1;32mc:\\Users\\Thoma\\anaconda3\\envs\\data_storage\\lib\\site-packages\\pandas\\io\\sql.py:946\u001b[0m, in \u001b[0;36mSQLTable.insert\u001b[1;34m(self, chunksize, method)\u001b[0m\n\u001b[0;32m    943\u001b[0m     \u001b[39mbreak\u001b[39;00m\n\u001b[0;32m    945\u001b[0m chunk_iter \u001b[39m=\u001b[39m \u001b[39mzip\u001b[39m(\u001b[39m*\u001b[39m(arr[start_i:end_i] \u001b[39mfor\u001b[39;00m arr \u001b[39min\u001b[39;00m data_list))\n\u001b[1;32m--> 946\u001b[0m num_inserted \u001b[39m=\u001b[39m exec_insert(conn, keys, chunk_iter)\n\u001b[0;32m    947\u001b[0m \u001b[39m# GH 46891\u001b[39;00m\n\u001b[0;32m    948\u001b[0m \u001b[39mif\u001b[39;00m is_integer(num_inserted):\n",
      "File \u001b[1;32mc:\\Users\\Thoma\\anaconda3\\envs\\data_storage\\lib\\site-packages\\pandas\\io\\sql.py:1894\u001b[0m, in \u001b[0;36mSQLiteTable._execute_insert\u001b[1;34m(self, conn, keys, data_iter)\u001b[0m\n\u001b[0;32m   1892\u001b[0m \u001b[39mdef\u001b[39;00m \u001b[39m_execute_insert\u001b[39m(\u001b[39mself\u001b[39m, conn, keys, data_iter) \u001b[39m-\u001b[39m\u001b[39m>\u001b[39m \u001b[39mint\u001b[39m:\n\u001b[0;32m   1893\u001b[0m     data_list \u001b[39m=\u001b[39m \u001b[39mlist\u001b[39m(data_iter)\n\u001b[1;32m-> 1894\u001b[0m     conn\u001b[39m.\u001b[39;49mexecutemany(\u001b[39mself\u001b[39;49m\u001b[39m.\u001b[39;49minsert_statement(num_rows\u001b[39m=\u001b[39;49m\u001b[39m1\u001b[39;49m), data_list)\n\u001b[0;32m   1895\u001b[0m     \u001b[39mreturn\u001b[39;00m conn\u001b[39m.\u001b[39mrowcount\n",
      "\u001b[1;31mOperationalError\u001b[0m: table Tags has no column named userId"
     ]
    }
   ],
   "source": [
    "#connect to database and import als csv files as tables\n",
    "from sqlalchemy.types import Integer, String, DateTime\n",
    "connection=create_connection(\"Database/movielens.db\")\n",
    "load_csv_to_db(connection, \"movielens/tags.csv\", \"Tags\")\n",
    "load_csv_to_db(connection, \"movielens/ratings.csv\", \"Ratings\")\n",
    "load_csv_to_db(connection, \"movielens/genome-scores.csv\", \"Genome_Scores\")\n",
    "load_csv_to_db(connection, \"movielens/genome-tags.csv\", \"Genome_Tags\")\n",
    "load_csv_to_db(connection, \"movielens/links.csv\", \"Links\")\n",
    "load_csv_to_db(connection, \"movielens/movies.csv\",\"Movies\")\n"
   ]
  },
  {
   "cell_type": "code",
   "execution_count": 39,
   "metadata": {},
   "outputs": [
    {
     "name": "stdout",
     "output_type": "stream",
     "text": [
      "[('Tags',), ('Ratings',), ('Genome_Scores',), ('Genome_Tags',), ('Links',), ('Movies',)]\n"
     ]
    }
   ],
   "source": [
    "sql_query = \"\"\"SELECT name FROM sqlite_master  \n",
    "  WHERE type='table';\"\"\"\n",
    "cursor = connection.cursor()\n",
    "cursor.execute(sql_query)\n",
    "print(cursor.fetchall())"
   ]
  },
  {
   "cell_type": "code",
   "execution_count": 6,
   "metadata": {},
   "outputs": [
    {
     "name": "stdout",
     "output_type": "stream",
     "text": [
      "table: Movies\n",
      "[(0, 'movieId', 'INTEGER', 1, None, 1), (1, 'title', 'VARCHAR', 0, None, 0), (2, 'genres', 'VARCHAR', 0, None, 0)]\n",
      "[]\n",
      "table: Ratings\n",
      "[(0, 'ratingId', 'INTEGER', 1, None, 1), (1, 'userId', 'INTEGER', 0, None, 0), (2, 'movieId', 'INTEGER', 0, None, 0), (3, 'rating', 'FLOAT', 0, None, 0), (4, 'timestamp', 'DATETIME', 0, None, 0)]\n",
      "[(0, 0, 'Movies', 'movieId', 'movieId', 'NO ACTION', 'NO ACTION', 'NONE')]\n"
     ]
    }
   ],
   "source": [
    "db = connection.cursor()\n",
    "rows = db.execute(\"SELECT name FROM sqlite_master WHERE type = 'table'\")\n",
    "tables = [row[0] for row in rows]\n",
    "\n",
    "def sql_identifier(s):\n",
    "    return '\"' + s.replace('\"', '\"\"') + '\"'\n",
    "\n",
    "for table in tables:\n",
    "    print(\"table: \" + table)\n",
    "    rows = db.execute(\"PRAGMA table_info({})\".format(sql_identifier(table)))\n",
    "    print(rows.fetchall())\n",
    "    rows = db.execute(\"PRAGMA foreign_key_list({})\".format(sql_identifier(table)))\n",
    "    print(rows.fetchall())"
   ]
  },
  {
   "cell_type": "code",
   "execution_count": null,
   "metadata": {},
   "outputs": [],
   "source": []
  }
 ],
 "metadata": {
  "kernelspec": {
   "display_name": "data_storage",
   "language": "python",
   "name": "python3"
  },
  "language_info": {
   "codemirror_mode": {
    "name": "ipython",
    "version": 3
   },
   "file_extension": ".py",
   "mimetype": "text/x-python",
   "name": "python",
   "nbconvert_exporter": "python",
   "pygments_lexer": "ipython3",
   "version": "3.9.15"
  },
  "orig_nbformat": 4,
  "vscode": {
   "interpreter": {
    "hash": "274e1682816fcc9f7dacccc380a6714b729fb7a8a85af545e227a744495968be"
   }
  }
 },
 "nbformat": 4,
 "nbformat_minor": 2
}
